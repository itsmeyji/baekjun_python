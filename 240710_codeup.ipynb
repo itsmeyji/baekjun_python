{
  "nbformat": 4,
  "nbformat_minor": 0,
  "metadata": {
    "colab": {
      "provenance": [],
      "authorship_tag": "ABX9TyOX6PnSTxVOB4+Z92lhEm5k",
      "include_colab_link": true
    },
    "kernelspec": {
      "name": "python3",
      "display_name": "Python 3"
    },
    "language_info": {
      "name": "python"
    }
  },
  "cells": [
    {
      "cell_type": "markdown",
      "metadata": {
        "id": "view-in-github",
        "colab_type": "text"
      },
      "source": [
        "<a href=\"https://colab.research.google.com/github/itsmeyji/Pioneer_python/blob/main/240710_codeup.ipynb\" target=\"_parent\"><img src=\"https://colab.research.google.com/assets/colab-badge.svg\" alt=\"Open In Colab\"/></a>"
      ]
    },
    {
      "cell_type": "markdown",
      "source": [
        "#code up 6092\n",
        "\n",
        "\n",
        "https://codeup.kr/problem.php?id=6092&rid=0\n",
        "\n",
        "\n",
        "\n"
      ],
      "metadata": {
        "id": "bs3ce7ahH68M"
      }
    },
    {
      "cell_type": "code",
      "source": [
        "n = int(input())\n",
        "a = list(map(int, input().split()))\n",
        "\n",
        "count=[]\n",
        "\n",
        "for i in range(1, 25):\n",
        "  count.append(0)\n",
        "\n",
        "for i in range(n):\n",
        "  count[a[i]] += 1\n",
        "\n",
        "for i in range(1, 25) :\n",
        "  print(count[i], end =' ')"
      ],
      "metadata": {
        "id": "eqzEUVTUITPu"
      },
      "execution_count": null,
      "outputs": []
    },
    {
      "cell_type": "markdown",
      "source": [
        "#code up 6093\n",
        "\n",
        "https://codeup.kr/problem.php?id=6093&rid=0\n",
        "\n",
        "\n",
        "\n"
      ],
      "metadata": {
        "id": "rLu5p3qyIZp3"
      }
    },
    {
      "cell_type": "code",
      "source": [
        "n = int(input())\n",
        "k = list(map(int, input().split()))\n",
        "\n",
        "length = len(k)\n",
        "for i in range(length):\n",
        "  print(k[length-1-i], end=' ')"
      ],
      "metadata": {
        "id": "xVn-JvvnIZG2"
      },
      "execution_count": null,
      "outputs": []
    },
    {
      "cell_type": "markdown",
      "source": [
        "#code up 6094\n",
        "\n",
        "https://codeup.kr/problem.php?id=6094&rid=0\n",
        "\n",
        "\n"
      ],
      "metadata": {
        "id": "UUKIjGwaIrUh"
      }
    },
    {
      "cell_type": "code",
      "source": [
        "n = int (input())\n",
        "k = list(map(int, input().split()))\n",
        "\n",
        "k.sort()\n",
        "print(k[0])"
      ],
      "metadata": {
        "id": "Adm_l1dfIt1g"
      },
      "execution_count": null,
      "outputs": []
    },
    {
      "cell_type": "markdown",
      "source": [
        "#code up 6098\n",
        "\n",
        "https://codeup.kr/problem.php?id=6098&rid=0\n",
        "\n",
        "\n"
      ],
      "metadata": {
        "id": "DvyjjcNEHnRt"
      }
    },
    {
      "cell_type": "code",
      "execution_count": null,
      "metadata": {
        "id": "ZUzcAwLuHghE"
      },
      "outputs": [],
      "source": [
        "a = [list(map(int, input().split())) for _ in range(10)]\n",
        "\n",
        "i = 1\n",
        "j = 1\n",
        "\n",
        "while True:\n",
        "    if a[i][j] == 2:\n",
        "        a[i][j] = 9\n",
        "        break\n",
        "    elif a[i][j] == 0:\n",
        "        a[i][j] = 9\n",
        "        if a[i][j+1] != 1:\n",
        "            j += 1\n",
        "        elif a[i+1][j] != 1:\n",
        "            i += 1\n",
        "        else:\n",
        "            break\n",
        "    else:\n",
        "        break\n",
        "\n",
        "for k in range(10):\n",
        "    for l in range(10):\n",
        "        print(a[k][l], end=' ')\n",
        "    print()"
      ]
    }
  ]
}